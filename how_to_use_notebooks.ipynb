{
 "cells": [
  {
   "cell_type": "markdown",
   "metadata": {},
   "source": [
    "# How to work with Jupyter Notebooks\n",
    "\n",
    "Last update: 2020.03.23  \n",
    "By: Jan Petter"
   ]
  },
  {
   "cell_type": "markdown",
   "metadata": {},
   "source": [
    "## Different modes\n",
    "\n",
    "If you click inside the cell (you see the cursor inside the cell), you are in cell edit mode and the things you write will end up inside the cell. To run the cell, you can use SHIFT + ENTER (press both keys simultaniosly).\n",
    "\n",
    "To get out of cell edit mode, either press ESC or click outside the cell on the left. Then you enter command mode. And key-presses usually means doing something to the cell, such as deleting the cell, adding a new cell under it, or others."
   ]
  },
  {
   "cell_type": "markdown",
   "metadata": {},
   "source": [
    "## Different cell types\n",
    "\n",
    "The cell can be of different types. The most common ones are \"code\" and \"markdown\". \n",
    "\n",
    "When the cell is of **code** type, the things you enter will be run as python-code when you execute it (press SHIFT+ENTER). \n",
    "\n",
    "When the cell is of **markdown** type (such as this one), the text you enter will be translated to ... text. \n",
    "\n",
    "The formatting uses markdown, making it easy to write headers (starting a line with `#`-sign(s)) or *italic* (by encolsing with `*`) *etc*. You can also insert links. And write `LaTeX`.\n",
    "\n",
    "So, basically, you can have some cells with text describing what you are doing, and some cells with actual code. This makes "
   ]
  },
  {
   "cell_type": "code",
   "execution_count": null,
   "metadata": {},
   "outputs": [],
   "source": []
  }
 ],
 "metadata": {
  "kernelspec": {
   "display_name": "Python 3",
   "language": "python",
   "name": "python3"
  },
  "language_info": {
   "codemirror_mode": {
    "name": "ipython",
    "version": 3
   },
   "file_extension": ".py",
   "mimetype": "text/x-python",
   "name": "python",
   "nbconvert_exporter": "python",
   "pygments_lexer": "ipython3",
   "version": "3.8.0"
  }
 },
 "nbformat": 4,
 "nbformat_minor": 4
}
